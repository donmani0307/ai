{
 "cells": [
  {
   "cell_type": "code",
   "execution_count": 1,
   "id": "0c38758e",
   "metadata": {},
   "outputs": [],
   "source": [
    "# 새로운 방식"
   ]
  },
  {
   "cell_type": "code",
   "execution_count": 2,
   "id": "05cb48e9",
   "metadata": {},
   "outputs": [],
   "source": [
    "try:\n",
    "    from selenium import webdriver\n",
    "except:\n",
    "    ! pip install selenium\n",
    "    # Successfully installed async-generator-1.10 h11-0.13.0 outcome-1.2.0 selenium-4.4.3 trio-0.21.0 trio-websocket-0.9.2 wsproto-1.2.0"
   ]
  },
  {
   "cell_type": "code",
   "execution_count": 3,
   "id": "f81b4eee",
   "metadata": {},
   "outputs": [],
   "source": [
    "try:\n",
    "    from webdriver_manager.chrome import ChromeDriverManager\n",
    "except:\n",
    "    ! pip install webdriver-manager\n",
    "    # Successfully installed python-dotenv-0.21.0 webdriver-manager-3.8.3"
   ]
  },
  {
   "cell_type": "code",
   "execution_count": 4,
   "id": "93c9df24",
   "metadata": {},
   "outputs": [],
   "source": [
    "from selenium import webdriver\n",
    "from selenium.webdriver.chrome.service import Service as ChromeService\n",
    "from selenium.webdriver.common.keys import Keys\n",
    "from selenium.webdriver.common.by import By\n",
    "from selenium.webdriver.support.ui import WebDriverWait\n",
    "from webdriver_manager.chrome import ChromeDriverManager\n",
    "from time import sleep"
   ]
  },
  {
   "cell_type": "code",
   "execution_count": 5,
   "id": "d7756123",
   "metadata": {},
   "outputs": [],
   "source": [
    "driver = webdriver.Chrome( service=ChromeService( ChromeDriverManager().install() ) ) "
   ]
  },
  {
   "cell_type": "code",
   "execution_count": 6,
   "id": "c3c14dff",
   "metadata": {},
   "outputs": [],
   "source": [
    "driver.get('https://www.naver.com/')"
   ]
  },
  {
   "cell_type": "code",
   "execution_count": 7,
   "id": "ea7d9314",
   "metadata": {},
   "outputs": [],
   "source": [
    "# 검색 란에 키워드 입력\n",
    "# 예전 코드\n",
    "# driver.find_element_by_name('query')...\n",
    "# selenium 4.3 이후\n",
    "search_box = driver.find_element(By.NAME, 'query') # <input name='query'...>\n",
    "search_box.send_keys('영화 한산')"
   ]
  },
  {
   "cell_type": "code",
   "execution_count": 8,
   "id": "6da05d5a",
   "metadata": {},
   "outputs": [],
   "source": [
    "seach_btn = driver.find_element(By.ID, 'search_btn') # <button id='search_btn'...>\n",
    "seach_btn.click()\n",
    "sleep(3)"
   ]
  },
  {
   "cell_type": "code",
   "execution_count": 9,
   "id": "1d5d0d7b",
   "metadata": {},
   "outputs": [],
   "source": [
    "movie_link = driver.find_element(By.CLASS_NAME, 'area_text_title') # <span class='area_text_title'...>\n",
    "movie_link.click()\n",
    "sleep(3)"
   ]
  },
  {
   "cell_type": "code",
   "execution_count": 10,
   "id": "88fc4d26",
   "metadata": {},
   "outputs": [
    {
     "name": "stdout",
     "output_type": "stream",
     "text": [
      "['CDwindow-8BA295A8580B2E8DCF74B0279EB7606F', 'CDwindow-E533DB5036F3D8C3AFBA13EF381CE686']\n"
     ]
    }
   ],
   "source": [
    "tabs = driver.window_handles\n",
    "print(tabs)"
   ]
  },
  {
   "cell_type": "code",
   "execution_count": 11,
   "id": "ebd5cf4d",
   "metadata": {},
   "outputs": [],
   "source": [
    "handles = driver.window_handles\n",
    "for handle in handles:\n",
    "    if handle != handles[1]:\n",
    "        driver.switch_to.window(handle)\n",
    "        driver.close() # 창 닫기"
   ]
  },
  {
   "cell_type": "code",
   "execution_count": 12,
   "id": "5c51909c",
   "metadata": {},
   "outputs": [],
   "source": [
    "driver.quit() # 종료"
   ]
  },
  {
   "cell_type": "code",
   "execution_count": 13,
   "id": "7cda7cb0",
   "metadata": {},
   "outputs": [],
   "source": [
    "# end"
   ]
  }
 ],
 "metadata": {
  "kernelspec": {
   "display_name": "Python 3 (ipykernel)",
   "language": "python",
   "name": "python3"
  },
  "language_info": {
   "codemirror_mode": {
    "name": "ipython",
    "version": 3
   },
   "file_extension": ".py",
   "mimetype": "text/x-python",
   "name": "python",
   "nbconvert_exporter": "python",
   "pygments_lexer": "ipython3",
   "version": "3.8.12"
  }
 },
 "nbformat": 4,
 "nbformat_minor": 5
}
