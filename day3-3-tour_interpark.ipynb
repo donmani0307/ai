{
 "cells": [
  {
   "cell_type": "code",
   "execution_count": 1,
   "id": "d1547148",
   "metadata": {},
   "outputs": [],
   "source": [
    "# tour.interpark.com 에서 여행 정보 검색(예:로마)해서 원하는 정보 가져오기"
   ]
  },
  {
   "cell_type": "code",
   "execution_count": 2,
   "id": "3a20183d",
   "metadata": {},
   "outputs": [],
   "source": [
    "try:\n",
    "    from selenium import webdriver\n",
    "except:\n",
    "    ! pip install selenium"
   ]
  },
  {
   "cell_type": "code",
   "execution_count": 3,
   "id": "1cd72f03",
   "metadata": {},
   "outputs": [],
   "source": [
    "try:\n",
    "    from webdriver_manager.chrome import ChromeDriverManager\n",
    "except:\n",
    "    ! pip install webdriver-manager"
   ]
  },
  {
   "cell_type": "code",
   "execution_count": 4,
   "id": "4f7f85f6",
   "metadata": {},
   "outputs": [],
   "source": [
    "from selenium import webdriver\n",
    "from selenium.webdriver.chrome.service import Service as ChromeService\n",
    "from selenium.webdriver.common.keys import Keys\n",
    "from selenium.webdriver.common.by import By\n",
    "from selenium.webdriver.support.ui import WebDriverWait\n",
    "from selenium.webdriver.support import expected_conditions as EC\n",
    "from selenium.common.exceptions import TimeoutException\n",
    "from webdriver_manager.chrome import ChromeDriverManager\n",
    "from time import sleep\n",
    "from bs4 import BeautifulSoup"
   ]
  },
  {
   "cell_type": "code",
   "execution_count": 5,
   "id": "a651b925",
   "metadata": {},
   "outputs": [],
   "source": [
    "main_url = 'https://tour.interpark.com/'\n",
    "keyword = '로마'\n",
    "tour_list = []\n",
    "delay = 5 # 5초"
   ]
  },
  {
   "cell_type": "code",
   "execution_count": 6,
   "id": "ecc1af9d",
   "metadata": {},
   "outputs": [],
   "source": [
    "driver = webdriver.Chrome( service=ChromeService( ChromeDriverManager().install() ) ) "
   ]
  },
  {
   "cell_type": "code",
   "execution_count": 7,
   "id": "97fdd926",
   "metadata": {},
   "outputs": [],
   "source": [
    "driver.get(main_url)\n",
    "sleep(delay)"
   ]
  },
  {
   "cell_type": "code",
   "execution_count": 8,
   "id": "7f7b1caa",
   "metadata": {},
   "outputs": [],
   "source": [
    "# <input id='SearchGNBText'...>\n",
    "try:\n",
    "    search_box = WebDriverWait(driver, delay).until(\n",
    "        EC.presence_of_element_located( (By.CSS_SELECTOR, '#SearchGNBText') ) )\n",
    "except TimeoutException:\n",
    "    print(\"로딩 시간 초과!\")\n",
    "search_box.send_keys(keyword)"
   ]
  },
  {
   "cell_type": "code",
   "execution_count": 9,
   "id": "4b348eb4",
   "metadata": {},
   "outputs": [],
   "source": [
    "# <button class='search-btn'...>\n",
    "driver.find_element(By.CSS_SELECTOR, 'button.search-btn').click()\n",
    "sleep(delay)"
   ]
  },
  {
   "cell_type": "code",
   "execution_count": 10,
   "id": "9a3264fe",
   "metadata": {},
   "outputs": [
    {
     "name": "stdout",
     "output_type": "stream",
     "text": [
      "<selenium.webdriver.remote.webelement.WebElement (session=\"3a190aaa4dd3b118ff0399ad18e465de\", element=\"880cbde5-a760-4d51-9dce-0202111ff908\")>\n",
      "해외여행 더보기\n"
     ]
    }
   ],
   "source": [
    "# <div class='searchAllBox overseaTravel col1'> ... <button class='moreBtn'...>\n",
    "more_btn = driver.find_element(By.CSS_SELECTOR, '.searchAllBox.overseaTravel.col1 .moreBtn')\n",
    "print(more_btn)\n",
    "print(more_btn.text)\n",
    "more_btn.click()\n",
    "sleep(delay)"
   ]
  },
  {
   "cell_type": "code",
   "execution_count": 11,
   "id": "71383b5f",
   "metadata": {},
   "outputs": [],
   "source": [
    "# <button class='nextAllBtn'...>\n",
    "driver.find_element(By.CSS_SELECTOR, '.nextAllBtn').click()\n",
    "sleep(delay)"
   ]
  },
  {
   "cell_type": "code",
   "execution_count": 12,
   "id": "33510832",
   "metadata": {},
   "outputs": [
    {
     "name": "stdout",
     "output_type": "stream",
     "text": [
      "5\n"
     ]
    }
   ],
   "source": [
    "# <div class='pageNumBox'..> <ul> ... <li>...\n",
    "str_last_pages = driver.find_elements(By.CSS_SELECTOR, '.pageNumBox li')\n",
    "str_last_page = str_last_pages[-1].text # 마지막의 글자\n",
    "last_page = int( str_last_page )\n",
    "print(last_page) # 5 (숫자)"
   ]
  },
  {
   "cell_type": "code",
   "execution_count": 13,
   "id": "f5607c50",
   "metadata": {},
   "outputs": [],
   "source": [
    "sleep(1)\n",
    "# <button class='prevAllBtn'...>\n",
    "driver.find_element(By.CSS_SELECTOR, '.prevAllBtn').click()\n",
    "sleep(delay)"
   ]
  },
  {
   "cell_type": "code",
   "execution_count": 14,
   "id": "1aad2f34",
   "metadata": {},
   "outputs": [],
   "source": [
    "from tqdm.notebook import tqdm"
   ]
  },
  {
   "cell_type": "code",
   "execution_count": 15,
   "id": "ef1fc444",
   "metadata": {},
   "outputs": [
    {
     "data": {
      "application/vnd.jupyter.widget-view+json": {
       "model_id": "fed95875a9f84055a42aac983d6be8b1",
       "version_major": 2,
       "version_minor": 0
      },
      "text/plain": [
       "  0%|          | 0/10 [00:00<?, ?it/s]"
      ]
     },
     "metadata": {},
     "output_type": "display_data"
    },
    {
     "data": {
      "text/plain": [
       "['D3010721',\n",
       " 'A3018602',\n",
       " 'A3015008',\n",
       " 'A3018067',\n",
       " 'D3010725',\n",
       " 'D3010724',\n",
       " 'D3010714',\n",
       " 'D3010713',\n",
       " 'A3018106',\n",
       " 'A3018099']"
      ]
     },
     "execution_count": 15,
     "metadata": {},
     "output_type": "execute_result"
    }
   ],
   "source": [
    "sleep(1)\n",
    "# 1페이지\n",
    "links = []\n",
    "# <div class='searchAllBox overseaTravel col1'> <li class='boxItem'>\n",
    "boxItems = driver.find_elements(By.CSS_SELECTOR,'.searchAllBox.overseaTravel.col1 .boxItem')\n",
    "# len(boxItems) # 링크 포함한 boxItem 10개\n",
    "for boxItem in tqdm( boxItems ):\n",
    "    links.append( boxItem.get_attribute('data-id') )\n",
    "links"
   ]
  },
  {
   "cell_type": "code",
   "execution_count": 16,
   "id": "d2f2e633",
   "metadata": {},
   "outputs": [
    {
     "data": {
      "application/vnd.jupyter.widget-view+json": {
       "model_id": "94ef14822ab84142a3d019700ec99b2b",
       "version_major": 2,
       "version_minor": 0
      },
      "text/plain": [
       "  0%|          | 0/4 [00:00<?, ?it/s]"
      ]
     },
     "metadata": {},
     "output_type": "display_data"
    },
    {
     "data": {
      "application/vnd.jupyter.widget-view+json": {
       "model_id": "e26eb615d2624df2abffc3683acdda6c",
       "version_major": 2,
       "version_minor": 0
      },
      "text/plain": [
       "  0%|          | 0/10 [00:00<?, ?it/s]"
      ]
     },
     "metadata": {},
     "output_type": "display_data"
    },
    {
     "data": {
      "application/vnd.jupyter.widget-view+json": {
       "model_id": "38bd3d350c8a42b89b08b53dd4845ed7",
       "version_major": 2,
       "version_minor": 0
      },
      "text/plain": [
       "  0%|          | 0/10 [00:00<?, ?it/s]"
      ]
     },
     "metadata": {},
     "output_type": "display_data"
    },
    {
     "data": {
      "application/vnd.jupyter.widget-view+json": {
       "model_id": "dea975c67beb40f19ae858eb50504f22",
       "version_major": 2,
       "version_minor": 0
      },
      "text/plain": [
       "  0%|          | 0/10 [00:00<?, ?it/s]"
      ]
     },
     "metadata": {},
     "output_type": "display_data"
    },
    {
     "data": {
      "application/vnd.jupyter.widget-view+json": {
       "model_id": "dcdb3856e78f415da690b2418a0aa887",
       "version_major": 2,
       "version_minor": 0
      },
      "text/plain": [
       "  0%|          | 0/3 [00:00<?, ?it/s]"
      ]
     },
     "metadata": {},
     "output_type": "display_data"
    }
   ],
   "source": [
    "sleep(1)\n",
    "# 2부터 5페이지 : 총 4번 클릭\n",
    "for page_link in tqdm( range(1, last_page) ): # 1,2,3,4(last_page-1) ==> 4번 클릭\n",
    "    driver.find_element(By.CSS_SELECTOR, '.pageNumBox .nextBtn').click()\n",
    "    sleep(delay)\n",
    "    boxItems = driver.find_elements(By.CSS_SELECTOR,\n",
    "                                    '.searchAllBox.overseaTravel.col1 .boxItem')\n",
    "    for boxItem in tqdm( boxItems ):\n",
    "        links.append(boxItem.get_attribute('data-id')) # <li class=\"boxItem\" data-id=\"D3010721\""
   ]
  },
  {
   "cell_type": "code",
   "execution_count": 17,
   "id": "9c577975",
   "metadata": {},
   "outputs": [
    {
     "data": {
      "text/plain": [
       "['D3010721',\n",
       " 'A3018602',\n",
       " 'A3015008',\n",
       " 'A3018067',\n",
       " 'D3010725',\n",
       " 'D3010724',\n",
       " 'D3010714',\n",
       " 'D3010713',\n",
       " 'A3018106',\n",
       " 'A3018099',\n",
       " 'A3017982',\n",
       " 'A3018207',\n",
       " 'A3018290',\n",
       " 'A3012938',\n",
       " 'A3017954',\n",
       " 'A3014578',\n",
       " 'A3014604',\n",
       " 'A3012471',\n",
       " 'A3014154',\n",
       " 'A3018534',\n",
       " 'Q2010037',\n",
       " 'A3018479',\n",
       " 'A3018362',\n",
       " 'A3018284',\n",
       " 'A3017907',\n",
       " 'A3017103',\n",
       " 'A3018600',\n",
       " 'A3018598',\n",
       " 'A3018580',\n",
       " 'A3018578',\n",
       " 'A3018563',\n",
       " 'A3018531',\n",
       " 'A3018525',\n",
       " 'A3018408',\n",
       " 'A3018391',\n",
       " 'A3017997',\n",
       " 'A3017956',\n",
       " 'A3017828',\n",
       " 'A3017748',\n",
       " 'A3017745',\n",
       " 'A3017685',\n",
       " 'A3016731',\n",
       " 'A1033117']"
      ]
     },
     "execution_count": 17,
     "metadata": {},
     "output_type": "execute_result"
    }
   ],
   "source": [
    "sleep(1)\n",
    "links"
   ]
  },
  {
   "cell_type": "code",
   "execution_count": 18,
   "id": "5f16b9ba",
   "metadata": {},
   "outputs": [],
   "source": [
    "# [유럽허니문] 스위스+이탈리아 8박11일 (인터라켄2박+베니스1박+피렌체2박+로마3박)\n",
    "# http://tour.interpark.com/goods/detail/?BaseGoodsCd=D3010721"
   ]
  },
  {
   "cell_type": "code",
   "execution_count": 19,
   "id": "330261a5",
   "metadata": {},
   "outputs": [
    {
     "data": {
      "text/plain": [
       "['http://tour.interpark.com/goods/detail/?BaseGoodsCd=D3010721',\n",
       " 'http://tour.interpark.com/goods/detail/?BaseGoodsCd=A3018602']"
      ]
     },
     "execution_count": 19,
     "metadata": {},
     "output_type": "execute_result"
    }
   ],
   "source": [
    "sleep(1)\n",
    "base_url = \"http://tour.interpark.com/goods/detail/?BaseGoodsCd=\"\n",
    "# search_links = [ base_url+link for link in links ]\n",
    "search_links = [ base_url+link for link in links[:2] ] # 2개의 링크만 테스트\n",
    "search_links"
   ]
  },
  {
   "cell_type": "code",
   "execution_count": 20,
   "id": "fa0eacee",
   "metadata": {},
   "outputs": [
    {
     "data": {
      "application/vnd.jupyter.widget-view+json": {
       "model_id": "1d3410c44b2847839ab7b09cfd62fc24",
       "version_major": 2,
       "version_minor": 0
      },
      "text/plain": [
       "  0%|          | 0/2 [00:00<?, ?it/s]"
      ]
     },
     "metadata": {},
     "output_type": "display_data"
    },
    {
     "name": "stdout",
     "output_type": "stream",
     "text": [
      "link= http://tour.interpark.com/goods/detail/?BaseGoodsCd=D3010721\n",
      "link= http://tour.interpark.com/goods/detail/?BaseGoodsCd=A3018602\n"
     ]
    },
    {
     "data": {
      "text/plain": [
       "[[{'상품명': '[유럽허니문] 스위스+이탈리아 8박11일 (인터라켄2박+베니스1박+피렌체2박+로마3박)'},\n",
       "  {'상품코드': '22091412409'},\n",
       "  {'예약현황': '예약 0명'},\n",
       "  {'총 합계 금액': '3,290,000'}],\n",
       " [{'상품명': '[주말출도착 이탈리아 9일]2대야경(로마/피렌체)+포토스팟피사_터키항공'},\n",
       "  {'상품코드': '22110211484'},\n",
       "  {'예약현황': '예약 5명'},\n",
       "  {'총 합계 금액': '1,841,400'}]]"
      ]
     },
     "execution_count": 20,
     "metadata": {},
     "output_type": "execute_result"
    }
   ],
   "source": [
    "sleep(1)\n",
    "tour_datas = []\n",
    "for link in tqdm( search_links ):\n",
    "    print(\"link=\", link)\n",
    "    driver.get(link)\n",
    "    sleep(delay)\n",
    "    soup = BeautifulSoup(driver.page_source, 'lxml')\n",
    "    # <div class=\"default-section goods-info\"> <h2> <strong>상품명\n",
    "    title = soup.select_one('.default-section.goods-info h2 strong').string # 상품명\n",
    "    tbody = soup.select_one('.ui-data-table.min tbody') # <tbody> 태그 얻기\n",
    "    code = tbody.tr.td.strong.string # <tbody><tr><td><strong>22091412409</strong>,상품코드\n",
    "    td1 = tbody.select('td')[1] # 인덱스로 1번째(사람기준 2번째)\n",
    "    td1.strong.div.decompose() # <strong> 하위의 <div> 태그를 없앤다.<strong>XXX가 필요해서\n",
    "    period = td1.select_one('strong').get_text(strip=True) # 공백 제거, 여행기간\n",
    "    td2 = tbody.select('td')[2] # 인덱스로 2번째(사람기준 2번째)\n",
    "    reserved = td2.strong.string\n",
    "    totalPay = soup.select_one('.j-totalPay').string\n",
    "    d_title = {\"상품명\":title}\n",
    "    d_code = {\"상품코드\":code}\n",
    "    d_period = {\"여행기간\":period}\n",
    "    d_reserved = {\"예약현황\":reserved}\n",
    "    d_totalPay = {\"총 합계 금액\":totalPay}\n",
    "    tour_datas.append([ d_title, d_code, d_reserved, d_totalPay ])\n",
    "tour_datas"
   ]
  },
  {
   "cell_type": "code",
   "execution_count": 21,
   "id": "23013e43",
   "metadata": {},
   "outputs": [],
   "source": [
    "driver.close()\n",
    "driver.quit()"
   ]
  },
  {
   "cell_type": "code",
   "execution_count": 22,
   "id": "75442ef1",
   "metadata": {},
   "outputs": [],
   "source": [
    "# end"
   ]
  }
 ],
 "metadata": {
  "kernelspec": {
   "display_name": "Python 3 (ipykernel)",
   "language": "python",
   "name": "python3"
  },
  "language_info": {
   "codemirror_mode": {
    "name": "ipython",
    "version": 3
   },
   "file_extension": ".py",
   "mimetype": "text/x-python",
   "name": "python",
   "nbconvert_exporter": "python",
   "pygments_lexer": "ipython3",
   "version": "3.8.12"
  }
 },
 "nbformat": 4,
 "nbformat_minor": 5
}
