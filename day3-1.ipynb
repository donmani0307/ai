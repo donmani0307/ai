{
 "cells": [
  {
   "cell_type": "code",
   "execution_count": 1,
   "id": "4ebde4fd",
   "metadata": {},
   "outputs": [
    {
     "name": "stdout",
     "output_type": "stream",
     "text": [
      "hello\n"
     ]
    }
   ],
   "source": [
    "print(\"hello\")"
   ]
  },
  {
   "cell_type": "code",
   "execution_count": 2,
   "id": "3273cd9a",
   "metadata": {},
   "outputs": [],
   "source": [
    "try:\n",
    "    from selenium import webdriver\n",
    "except:\n",
    "    ! pip install selenium\n",
    "    # Successfully installed async-generator-1.10 h11-0.13.0 outcome-1.2.0 selenium-4.4.3 trio-0.21.0 trio-websocket-0.9.2 wsproto-1.2.0"
   ]
  },
  {
   "cell_type": "code",
   "execution_count": 3,
   "id": "425ccc1a",
   "metadata": {},
   "outputs": [],
   "source": [
    "# 예전 방식\n",
    "from selenium import webdriver"
   ]
  },
  {
   "cell_type": "code",
   "execution_count": 4,
   "id": "36e8fac0",
   "metadata": {},
   "outputs": [
    {
     "name": "stderr",
     "output_type": "stream",
     "text": [
      "/var/folders/2n/8fv911md4hvczshbq4s619tw0000gn/T/ipykernel_49881/1218096713.py:5: DeprecationWarning: executable_path has been deprecated, please pass in a Service object\n",
      "  driver = webdriver.Chrome('./chromedriver')\n"
     ]
    }
   ],
   "source": [
    "import platform\n",
    "if platform.system() == 'Windows':\n",
    "    driver = webdriver.Chrome('./chromedriver.exe')\n",
    "elif platform.system() == 'Darwin':\n",
    "    driver = webdriver.Chrome('./chromedriver')\n",
    "else:\n",
    "    driver = webdriver.Chrome('./chromedriver')"
   ]
  },
  {
   "cell_type": "code",
   "execution_count": 5,
   "id": "53c24e19",
   "metadata": {},
   "outputs": [],
   "source": [
    "driver.get('https://www.naver.com/')"
   ]
  },
  {
   "cell_type": "code",
   "execution_count": 6,
   "id": "074b6334",
   "metadata": {},
   "outputs": [],
   "source": [
    "# end"
   ]
  }
 ],
 "metadata": {
  "kernelspec": {
   "display_name": "Python 3 (ipykernel)",
   "language": "python",
   "name": "python3"
  },
  "language_info": {
   "codemirror_mode": {
    "name": "ipython",
    "version": 3
   },
   "file_extension": ".py",
   "mimetype": "text/x-python",
   "name": "python",
   "nbconvert_exporter": "python",
   "pygments_lexer": "ipython3",
   "version": "3.8.12"
  }
 },
 "nbformat": 4,
 "nbformat_minor": 5
}
